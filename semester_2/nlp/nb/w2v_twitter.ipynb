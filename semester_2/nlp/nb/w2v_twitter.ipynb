{
 "cells": [
  {
   "cell_type": "code",
   "execution_count": 6,
   "id": "d99acf41-c963-47c8-b090-41a3447b86c7",
   "metadata": {},
   "outputs": [],
   "source": [
    "from gensim.models import KeyedVectors\n",
    "import os\n",
    "import numpy as np\n",
    "\n",
    "\n",
    "def getWordVector(model, word):\n",
    "    try:\n",
    "        return model[word]\n",
    "    except KeyError:\n",
    "        return None\n",
    "\n",
    "\n",
    "def load_glove_model(filepath, encoding='utf-8'):\n",
    "    try:\n",
    "        print(f\"Attempting to load model with encoding: {encoding}\")\n",
    "        model = KeyedVectors.load_word2vec_format(filepath, binary=False, encoding=encoding)\n",
    "        print(f\"Successfully loaded model with encoding: {encoding}\")\n",
    "        return model\n",
    "    except UnicodeDecodeError as e:\n",
    "        print(f\"UnicodeDecodeError with encoding {encoding}: {e}\")\n",
    "        if encoding != 'latin-1':\n",
    "            print(\"Attempting to load model with latin-1 encoding\")\n",
    "            return load_glove_model(filepath, encoding='latin-1')\n",
    "        else:\n",
    "            print(\"Failed to load model with both utf-8 and latin-1 encodings.\")\n",
    "            return None\n",
    "    except Exception as e:\n",
    "        print(f\"An unexpected error occurred: {e}\")\n",
    "        return None\n",
    "\n",
    "\n",
    "def completeAnalogyWithOptionList(wordA, wordB, wordC, options):\n",
    "    try:\n",
    "        vector_B = model[wordB]\n",
    "        vector_A = model[wordA]\n",
    "        vector_C = model[wordC]\n",
    "    except KeyError as e:\n",
    "        print(f\"Warning: One or more words not found in vocabulary: {e}\")\n",
    "        return None\n",
    "\n",
    "    analogy_vector = vector_B - vector_A + vector_C\n",
    "\n",
    "    best_option = None\n",
    "    best_similarity = -1\n",
    "\n",
    "    for option in options:\n",
    "        try:\n",
    "            option_vector = model[option]\n",
    "            similarity = cosine_similarity(analogy_vector, option_vector)\n",
    "\n",
    "            if similarity > best_similarity:\n",
    "                best_similarity = similarity\n",
    "                best_option = option\n",
    "        except KeyError:\n",
    "            print(f\"Warning: Option word '{option}' not found in vocabulary. Skipping.\")\n",
    "            continue\n",
    "\n",
    "    return best_option\n",
    "\n",
    "\n",
    "def cosine_similarity(v1, v2):\n",
    "    v1_norm = np.linalg.norm(v1)\n",
    "    v2_norm = np.linalg.norm(v2)\n",
    "    if v1_norm == 0 or v2_norm == 0:\n",
    "        return 0.0\n",
    "    return np.dot(v1, v2) / (v1_norm * v2_norm)"
   ]
  },
  {
   "cell_type": "code",
   "execution_count": 8,
   "id": "2ba0c8ee-2931-42e0-97cd-4a15f3396b46",
   "metadata": {},
   "outputs": [
    {
     "name": "stdout",
     "output_type": "stream",
     "text": [
      "Attempting to load model with encoding: utf-8\n",
      "Successfully loaded model with encoding: utf-8\n"
     ]
    }
   ],
   "source": [
    "file_path = \"../data/glove-twitter-25.txt\"\n",
    "if not os.path.exists(file_path):\n",
    "    print(f\"Error: File not found at {file_path}\")\n",
    "else:\n",
    "    model = load_glove_model(file_path)"
   ]
  },
  {
   "cell_type": "code",
   "execution_count": 12,
   "id": "43cab0c4-cfe4-43d0-806e-2fa26662ebfe",
   "metadata": {},
   "outputs": [
    {
     "name": "stdout",
     "output_type": "stream",
     "text": [
      "Vector for 'king': [-0.74501 -0.11992  0.37329  0.36847 -0.4472  -0.2288   0.70118  0.82872\n",
      "  0.39486 -0.58347]... (truncated)\n",
      "Vector for 'qwerty': [ 0.28914  -0.28524   0.21839   0.088964  1.2627   -0.22651  -0.10775\n",
      " -0.29433   1.4517    0.3187  ]... (truncated)\n",
      "Analogy 'berlin' is to 'germany' as 'paris' is to: italy\n",
      "Analogy 'water' is to 'swim' as 'air' is to: fly\n",
      "Analogy 'man' is to 'king' as 'woman' is to: queen\n"
     ]
    }
   ],
   "source": [
    "word_vector = getWordVector(model, \"king\")\n",
    "if word_vector is not None:\n",
    "    print(f\"Vector for 'king': {word_vector[:10]}... (truncated)\")\n",
    "else:\n",
    "    print(\"Word 'king' not found in the vocabulary.\")\n",
    "word_vector = getWordVector(model, \"qwerty\")\n",
    "if word_vector is not None:\n",
    "    print(f\"Vector for 'qwerty': {word_vector[:10]}... (truncated)\")\n",
    "else:\n",
    "    print(\"Word 'qwerty' not found in the vocabulary.\")\n",
    "\n",
    "options = [\"germany\", \"france\", \"italy\", \"spain\"]\n",
    "result = completeAnalogyWithOptionList(\"berlin\", \"germany\", \"paris\", options)\n",
    "print(f\"Analogy 'berlin' is to 'germany' as 'paris' is to: {result}\")\n",
    "\n",
    "options = [\"swim\", \"run\", \"fly\", \"jump\"]\n",
    "result = completeAnalogyWithOptionList(\"water\", \"swim\", \"air\", options)\n",
    "print(f\"Analogy 'water' is to 'swim' as 'air' is to: {result}\")\n",
    "\n",
    "options = [\"queen\", \"princess\", \"waitress\", \"doctor\", \"qwerty\"]\n",
    "result = completeAnalogyWithOptionList(\"man\", \"king\", \"woman\", options)\n",
    "print(f\"Analogy 'man' is to 'king' as 'woman' is to: {result}\")"
   ]
  },
  {
   "cell_type": "code",
   "execution_count": null,
   "id": "4ed665fa-1d81-469a-a58b-ae2a87e0dcf7",
   "metadata": {},
   "outputs": [],
   "source": []
  }
 ],
 "metadata": {
  "kernelspec": {
   "display_name": "nlp-uv",
   "language": "python",
   "name": "nlp-uv"
  },
  "language_info": {
   "codemirror_mode": {
    "name": "ipython",
    "version": 3
   },
   "file_extension": ".py",
   "mimetype": "text/x-python",
   "name": "python",
   "nbconvert_exporter": "python",
   "pygments_lexer": "ipython3",
   "version": "3.12.9"
  }
 },
 "nbformat": 4,
 "nbformat_minor": 5
}
