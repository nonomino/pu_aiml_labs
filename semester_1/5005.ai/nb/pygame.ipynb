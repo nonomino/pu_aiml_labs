{
 "cells": [
  {
   "cell_type": "code",
   "execution_count": 13,
   "id": "f8e9548f-a557-445c-8479-178cde18a9ed",
   "metadata": {},
   "outputs": [
    {
     "name": "stdout",
     "output_type": "stream",
     "text": [
      "203 205\n",
      "268 227\n",
      "195 316\n",
      "108 232\n",
      "214 236\n",
      "146 259\n",
      "191 278\n",
      "171 282\n",
      "166 272\n",
      "150 270\n",
      "150 270\n",
      "150 270\n",
      "150 279\n",
      "155 299\n",
      "206 207\n",
      "211 214\n",
      "211 214\n",
      "211 214\n",
      "211 214\n",
      "211 214\n",
      "212 225\n",
      "212 225\n",
      "202 215\n",
      "202 215\n",
      "202 215\n",
      "200 227\n",
      "200 227\n",
      "200 227\n",
      "190 213\n",
      "196 195\n",
      "181 204\n",
      "182 218\n",
      "189 228\n",
      "195 237\n",
      "207 176\n",
      "207 176\n",
      "207 176\n",
      "207 176\n",
      "207 176\n",
      "207 176\n",
      "210 179\n",
      "213 184\n",
      "222 203\n",
      "227 212\n",
      "231 232\n",
      "250 223\n"
     ]
    }
   ],
   "source": [
    "import pygame\n",
    "\n",
    "if __name__ == \"__main__\":\n",
    "    pygame.init()\n",
    "    screen = pygame.display.set_mode((500, 500))\n",
    "    pygame.display.set_caption(\"PYGAME\")\n",
    "    screen.fill((255, 255, 255))\n",
    "    while True:\n",
    "        evt = pygame.event.poll()\n",
    "        if evt.type == pygame.QUIT:\n",
    "            pygame.quit()\n",
    "        elif evt.type == pygame.MOUSEBUTTONDOWN:\n",
    "            x, y = evt.pos\n",
    "            print(x, y)\n",
    "            pygame.draw.circle(screen, (111, 89, 43), (x, y), 15)\n",
    "            pygame.display.flip()\n",
    "        elif evt.type == pygame.KEYDOWN:\n",
    "            if evt.key == pygame.K_q:\n",
    "                pygame.quit()\n",
    "                break"
   ]
  },
  {
   "cell_type": "code",
   "execution_count": null,
   "id": "28d41028-6121-4032-bb6d-729b78c7fd80",
   "metadata": {},
   "outputs": [],
   "source": []
  }
 ],
 "metadata": {
  "kernelspec": {
   "display_name": "Python 3 (ipykernel)",
   "language": "python",
   "name": "python3"
  },
  "language_info": {
   "codemirror_mode": {
    "name": "ipython",
    "version": 3
   },
   "file_extension": ".py",
   "mimetype": "text/x-python",
   "name": "python",
   "nbconvert_exporter": "python",
   "pygments_lexer": "ipython3",
   "version": "3.13.1"
  }
 },
 "nbformat": 4,
 "nbformat_minor": 5
}
