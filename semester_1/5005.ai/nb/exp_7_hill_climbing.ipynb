{
 "cells": [
  {
   "cell_type": "code",
   "execution_count": 3,
   "id": "29123eed-8d3d-4355-a035-5f36ed4ee447",
   "metadata": {},
   "outputs": [
    {
     "name": "stdin",
     "output_type": "stream",
     "text": [
      "Enter initial state (space-separated 9 numbers with 0 as blank):  1 2 4 5 6 9 8 0 8\n",
      "Enter goal state (space-separated 9 numbers with 0 as blank):  1 2 3 4 5 6 8 9 0\n"
     ]
    },
    {
     "name": "stdout",
     "output_type": "stream",
     "text": [
      "Initial: (1, 2, 4, 5, 6, 9, 8, 0, 8) \n",
      "Solved: (1, 2, 4, 0, 5, 9, 8, 6, 8)\n"
     ]
    }
   ],
   "source": [
    "def heuristic(state, goal):\n",
    "    return sum(abs(b % 3 - g % 3) + abs(b // 3 - g // 3) for b, g in enumerate(state) if g and g != goal[b])\n",
    "\n",
    "\n",
    "def get_neighbors(state):\n",
    "    i = state.index(0)\n",
    "    moves = [(-1, 0), (1, 0), (0, -1), (0, 1)]\n",
    "    neighbors = []\n",
    "    for dx, dy in moves:\n",
    "        x, y = i % 3 + dx, i // 3 + dy\n",
    "        if 0 <= x < 3 and 0 <= y < 3:\n",
    "            new_state = list(state)\n",
    "            j = y * 3 + x\n",
    "            new_state[i], new_state[j] = new_state[j], new_state[i]\n",
    "            neighbors.append(tuple(new_state))\n",
    "    return neighbors\n",
    "\n",
    "\n",
    "def is_solvable(state):\n",
    "    inv_count = sum(1 for i in range(len(state)) for j in range(i+1, len(state)) if state[i] and state[j] and state[i] > state[j])\n",
    "    return inv_count % 2 == 0\n",
    "\n",
    "\n",
    "def hill_climb(start, goal):\n",
    "    if not is_solvable(start):\n",
    "        print(\"The given puzzle is unsolvable.\")\n",
    "        return None\n",
    "\n",
    "    current = start\n",
    "    while True:\n",
    "        neighbors = get_neighbors(current)\n",
    "        next_state = min(neighbors, key=lambda s: heuristic(s, goal), default=current)\n",
    "        if heuristic(next_state, goal) >= heuristic(current, goal):\n",
    "            return current\n",
    "        current = next_state\n",
    "\n",
    "start = tuple(map(int, input(\"Enter initial state (space-separated 9 numbers with 0 as blank): \").split()))\n",
    "goal = tuple(map(int, input(\"Enter goal state (space-separated 9 numbers with 0 as blank): \").split()))\n",
    "solution = hill_climb(start, goal)\n",
    "if solution:\n",
    "    print(\"Initial:\", start, \"\\nSolved:\", solution)\n"
   ]
  },
  {
   "cell_type": "code",
   "execution_count": null,
   "id": "b54e5be1-f1b0-4d79-adff-c8a01e67ace1",
   "metadata": {},
   "outputs": [],
   "source": []
  }
 ],
 "metadata": {
  "kernelspec": {
   "display_name": "Python 3 (ipykernel)",
   "language": "python",
   "name": "python3"
  },
  "language_info": {
   "codemirror_mode": {
    "name": "ipython",
    "version": 3
   },
   "file_extension": ".py",
   "mimetype": "text/x-python",
   "name": "python",
   "nbconvert_exporter": "python",
   "pygments_lexer": "ipython3",
   "version": "3.13.1"
  }
 },
 "nbformat": 4,
 "nbformat_minor": 5
}
