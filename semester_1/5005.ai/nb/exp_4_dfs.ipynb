{
 "cells": [
  {
   "cell_type": "markdown",
   "id": "94757998-bcaf-490c-88e6-56750e03e2c2",
   "metadata": {},
   "source": [
    "# Experiment 4: Part 2: DFS Algorithm\n",
    "- Name: **Anas Muhammmed Sahil**\n",
    "- Date: 24-01-2025\n",
    "- Roll Number: 20242AIE0010"
   ]
  },
  {
   "cell_type": "code",
   "execution_count": 2,
   "id": "16dcc933-ea81-4f16-9ff8-3ae263233cee",
   "metadata": {},
   "outputs": [
    {
     "name": "stdout",
     "output_type": "stream",
     "text": [
      "Depth First Search starting from node 0:\n",
      "Visiting node: 0\n",
      " 0 -> 1\n",
      "Visiting node: 1\n",
      " 1 -> 3\n",
      "Visiting node: 3\n",
      " 1 -> 4\n",
      "Visiting node: 4\n",
      " 4 -> 5\n",
      "Visiting node: 5\n",
      " 0 -> 2\n",
      "Visiting node: 2\n",
      "Nodes visited in order: [0, 1, 3, 4, 5, 2]\n"
     ]
    }
   ],
   "source": [
    "from typing import List, Dict\n",
    "\n",
    "def dfs_recursive(graph: Dict[int, List[int]],\n",
    "\t\t\t\t  start: int,\n",
    "\t\t\t\t  visited: List[int] = None) -> List[int]:\n",
    "    if visited is None:\n",
    "        visited = []\n",
    "    visited.append(start)\n",
    "    print(f\"Visiting node: {start}\")\n",
    "    for neighbor in graph[start]:\n",
    "        if neighbor not in visited:\n",
    "            print(f\" {start} -> {neighbor}\")\n",
    "            dfs_recursive(graph, neighbor, visited)\n",
    "    return visited\n",
    "\n",
    "\n",
    "if __name__ == \"__main__\":\n",
    "    # Example usage\n",
    "    example_graph = {\n",
    "        0: [1, 2],\n",
    "        1: [0, 3, 4],\n",
    "        2: [0],\n",
    "        3: [1],\n",
    "        4: [1, 5],\n",
    "        5: [4]\n",
    "    }\n",
    "    start_node = 0\n",
    "    print(\"Depth First Search starting from node 0:\")\n",
    "    visited_nodes = dfs_recursive(example_graph, start_node)\n",
    "    print(f\"Nodes visited in order: {visited_nodes}\")"
   ]
  },
  {
   "cell_type": "code",
   "execution_count": null,
   "id": "a65af32a-9790-4cea-a127-ae659e6fc1c7",
   "metadata": {},
   "outputs": [],
   "source": []
  }
 ],
 "metadata": {
  "kernelspec": {
   "display_name": "Python 3 (ipykernel)",
   "language": "python",
   "name": "python3"
  },
  "language_info": {
   "codemirror_mode": {
    "name": "ipython",
    "version": 3
   },
   "file_extension": ".py",
   "mimetype": "text/x-python",
   "name": "python",
   "nbconvert_exporter": "python",
   "pygments_lexer": "ipython3",
   "version": "3.13.1"
  }
 },
 "nbformat": 4,
 "nbformat_minor": 5
}
