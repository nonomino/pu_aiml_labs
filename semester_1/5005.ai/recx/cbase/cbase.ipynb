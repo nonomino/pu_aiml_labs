{
 "cells": [
  {
   "cell_type": "code",
   "execution_count": 9,
   "id": "e955576b-27ad-4148-857c-5e945e386c5c",
   "metadata": {},
   "outputs": [
    {
     "name": "stdin",
     "output_type": "stream",
     "text": [
      "Enter the company name:  Googl\n"
     ]
    },
    {
     "name": "stdout",
     "output_type": "stream",
     "text": [
      "Company not found.\n"
     ]
    }
   ],
   "source": [
    "import requests\n",
    "import json\n",
    "\n",
    "\n",
    "def search_company(company_name, api_key):\n",
    "    url = \"https://api.crunchbase.com/api/v4/data/entities/organizations\"\n",
    "    headers = {\"Content-Type\": \"application/json\"}\n",
    "    payload = {\n",
    "        \"query\": [{\"field_id\": \"identifier.name\", \"operator_id\": \"contains\", \"value\": company_name}],\n",
    "        \"field_ids\": [\"identifier\", \"permalink\"],\n",
    "        \"limit\": 1\n",
    "    }\n",
    "\n",
    "    response = requests.post(f\"{url}?user_key={api_key}\", headers=headers, json=payload)\n",
    "    if response.status_code == 200:\n",
    "        results = response.json().get(\"entities\", [])\n",
    "        if results:\n",
    "            return results[0][\"properties\"].get(\"permalink\")\n",
    "    return None\n",
    "\n",
    "\n",
    "def get_company_info(permalink, api_key):\n",
    "    url = f\"https://api.crunchbase.com/api/v4/entities/organizations/{permalink}?user_key={api_key}\"\n",
    "    response = requests.get(url)\n",
    "    if response.status_code == 200:\n",
    "        return response.json().get(\"properties\", {})\n",
    "    return None\n",
    "\n",
    "\n",
    "def extract_relevant_info(company_data):\n",
    "    if not company_data:\n",
    "        return None\n",
    "    return {\n",
    "        \"name\": company_data.get(\"identifier.name\"),\n",
    "        \"founding_year\": company_data.get(\"founded_on\"),\n",
    "        \"industry\": company_data.get(\"categories\"),\n",
    "        \"location\": company_data.get(\"location_identifiers\"),\n",
    "        \"company_type\": company_data.get(\"legal_structure\"),\n",
    "        \"investments\": company_data.get(\"num_investments\"),\n",
    "        \"mergers_acquisitions\": company_data.get(\"num_acquisitions\"),\n",
    "    }\n",
    "\n",
    "\n",
    "def main():\n",
    "    api_key = \"0034499b777b80c969779584143f62fa\"\n",
    "    if not api_key:\n",
    "        print(\"Error: API key not found. Set the CRUNCHBASE_API_KEY environment variable.\")\n",
    "        return\n",
    "\n",
    "\n",
    "    company_name = input(\"Enter the company name: \")\n",
    "    permalink = search_company(company_name, api_key)\n",
    "    if not permalink:\n",
    "        print(\"Company not found.\")\n",
    "        return\n",
    "\n",
    "    company_data = get_company_info(permalink, api_key)\n",
    "    if company_data:\n",
    "        extracted_info = extract_relevant_info(company_data)\n",
    "        print(json.dumps(extracted_info, indent=4))\n",
    "    else:\n",
    "        print(\"Failed to retrieve company details.\")\n",
    "\n",
    "\n",
    "if __name__ == \"__main__\":\n",
    "    main()\n"
   ]
  },
  {
   "cell_type": "code",
   "execution_count": null,
   "id": "f12f898e-be78-42c8-a7d3-03dc775a884b",
   "metadata": {},
   "outputs": [],
   "source": []
  }
 ],
 "metadata": {
  "kernelspec": {
   "display_name": "Python 3 (ipykernel)",
   "language": "python",
   "name": "python3"
  },
  "language_info": {
   "codemirror_mode": {
    "name": "ipython",
    "version": 3
   },
   "file_extension": ".py",
   "mimetype": "text/x-python",
   "name": "python",
   "nbconvert_exporter": "python",
   "pygments_lexer": "ipython3",
   "version": "3.13.1"
  }
 },
 "nbformat": 4,
 "nbformat_minor": 5
}
