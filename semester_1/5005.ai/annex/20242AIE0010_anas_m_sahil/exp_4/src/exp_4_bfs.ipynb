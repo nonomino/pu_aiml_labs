{
 "cells": [
  {
   "cell_type": "markdown",
   "id": "ab0ac1df-529a-48fa-8918-8bd5f473f329",
   "metadata": {},
   "source": [
    "# Experiment 4: Part 1: BFS Algorithm\n",
    "- Name: **Anas Muhammmed Sahil**\n",
    "- Date: 24-01-2025\n",
    "- Roll Number: 20242AIE0010"
   ]
  },
  {
   "cell_type": "code",
   "execution_count": 1,
   "id": "01ae2eca-03e3-4739-93e9-d92256c11524",
   "metadata": {},
   "outputs": [
    {
     "name": "stdout",
     "output_type": "stream",
     "text": [
      "Updated path is ['5', '3']\n",
      "Updated path is ['5', '7']\n",
      "Visited nodes currently: ['5']\n",
      "Updated path is ['5', '3', '2']\n",
      "Updated path is ['5', '3', '4']\n",
      "Visited nodes currently: ['5', '3']\n",
      "Updated path is ['5', '7', '8']\n",
      "['5', '7', '8']\n"
     ]
    }
   ],
   "source": [
    "# Implement BFS (Breadth First Search) algorithm to find the shortest path\n",
    "# between two nodes in a graph.\n",
    "\n",
    "def bfs(graph, start, end):\n",
    "    visited = []\n",
    "    queue = [[start]]\n",
    "    if start == end:\n",
    "        return \"Start = End\"\n",
    "    while queue:\n",
    "        path = queue.pop(0)\n",
    "        node = path[-1]\n",
    "        if node not in visited:\n",
    "            neighbours = graph[node]\n",
    "            for neighbour in neighbours:\n",
    "                new_path = list(path)\n",
    "                new_path.append(neighbour)\n",
    "                print(f\"Updated path is {new_path}\")\n",
    "                queue.append(new_path)\n",
    "                if neighbour == end:\n",
    "                    return new_path\n",
    "            visited.append(node)\n",
    "            print(f\"Visited nodes currently: {visited}\")\n",
    "    return \"Unreachable\"\n",
    "\n",
    "\n",
    "if __name__ == \"__main__\":\n",
    "    graph = {\n",
    "        'A': ['B', 'C'],\n",
    "        'B': ['A', 'D', 'E'],\n",
    "        'C': ['A', 'F'],\n",
    "        'D': ['B'],\n",
    "        'E': ['B', 'F'],\n",
    "        'F': ['C', 'E']\n",
    "    }\n",
    "\n",
    "    graph2 = {\n",
    "        '5': ['3', '7'],\n",
    "        '3': ['2', '4'],\n",
    "        '7': ['8'],\n",
    "        '2': [],\n",
    "        '4': ['8'],\n",
    "        '8': []\n",
    "    }\n",
    "    print(bfs(graph2, '5', '8'))\n",
    "    # print(bfs(graph, 'A', 'D'))\n",
    "    # print(bfs(graph, 'A', 'A'))\n",
    "    # print(bfs(graph, 'A', 'Z'))\n"
   ]
  },
  {
   "cell_type": "code",
   "execution_count": null,
   "id": "473dd3b2-de30-4f2a-a932-1c038c9f5457",
   "metadata": {},
   "outputs": [],
   "source": []
  }
 ],
 "metadata": {
  "kernelspec": {
   "display_name": "Python 3 (ipykernel)",
   "language": "python",
   "name": "python3"
  },
  "language_info": {
   "codemirror_mode": {
    "name": "ipython",
    "version": 3
   },
   "file_extension": ".py",
   "mimetype": "text/x-python",
   "name": "python",
   "nbconvert_exporter": "python",
   "pygments_lexer": "ipython3",
   "version": "3.13.1"
  }
 },
 "nbformat": 4,
 "nbformat_minor": 5
}
