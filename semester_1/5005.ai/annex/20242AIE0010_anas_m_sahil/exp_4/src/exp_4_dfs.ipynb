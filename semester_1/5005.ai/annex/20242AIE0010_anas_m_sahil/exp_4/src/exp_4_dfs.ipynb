{
 "cells": [
  {
   "cell_type": "markdown",
   "id": "94757998-bcaf-490c-88e6-56750e03e2c2",
   "metadata": {},
   "source": [
    "# Experiment 4: Part 2: DFS Algorithm\n",
    "- Name: **Anas Muhammmed Sahil**\n",
    "- Date: 24-01-2025\n",
    "- Roll Number: 20242AIE0010"
   ]
  },
  {
   "cell_type": "code",
   "execution_count": 1,
   "id": "c3802f19-623f-4e6c-85d4-cc7511466396",
   "metadata": {},
   "outputs": [
    {
     "name": "stdout",
     "output_type": "stream",
     "text": [
      "Updated path is ['A', 'B']\n",
      "Updated path is ['A', 'C']\n",
      "Visited nodes currently: ['A']\n",
      "Updated path is ['A', 'C', 'A']\n",
      "Updated path is ['A', 'C', 'F']\n"
     ]
    },
    {
     "data": {
      "text/plain": [
       "['A', 'C', 'F']"
      ]
     },
     "execution_count": 1,
     "metadata": {},
     "output_type": "execute_result"
    }
   ],
   "source": [
    "def dfs(graph, start, end):\n",
    "    visited = []\n",
    "    stack = [[start]]\n",
    "    if start == end:\n",
    "        return \"Start = End\"\n",
    "    while stack:\n",
    "        path = stack.pop()\n",
    "        node = path[-1]\n",
    "        if node not in visited:\n",
    "            neighbours = graph[node]\n",
    "            for neighbour in neighbours:\n",
    "                new_path = list(path)\n",
    "                new_path.append(neighbour)\n",
    "                print(f\"Updated path is {new_path}\")\n",
    "                stack.append(new_path)\n",
    "                if neighbour == end:\n",
    "                    return new_path\n",
    "            visited.append(node)\n",
    "            print(f\"Visited nodes currently: {visited}\")\n",
    "    return \"Unreachable\"\n",
    "\n",
    "graph = {\n",
    "\t'A' : ['B', 'C'],\n",
    "\t'B' : ['A', 'D', 'E'],\n",
    "\t'C': ['A', 'F'],\n",
    "\t'D': ['B'],\n",
    "\t'E': ['B', 'F'],\n",
    "\t'F': ['C', 'E']\n",
    "}\n",
    "\n",
    "start = 'A'\n",
    "end = 'F'\n",
    "\n",
    "dfs(graph, start, end)"
   ]
  },
  {
   "cell_type": "code",
   "execution_count": null,
   "id": "16dcc933-ea81-4f16-9ff8-3ae263233cee",
   "metadata": {},
   "outputs": [],
   "source": []
  }
 ],
 "metadata": {
  "kernelspec": {
   "display_name": "Python 3 (ipykernel)",
   "language": "python",
   "name": "python3"
  },
  "language_info": {
   "codemirror_mode": {
    "name": "ipython",
    "version": 3
   },
   "file_extension": ".py",
   "mimetype": "text/x-python",
   "name": "python",
   "nbconvert_exporter": "python",
   "pygments_lexer": "ipython3",
   "version": "3.13.1"
  }
 },
 "nbformat": 4,
 "nbformat_minor": 5
}
