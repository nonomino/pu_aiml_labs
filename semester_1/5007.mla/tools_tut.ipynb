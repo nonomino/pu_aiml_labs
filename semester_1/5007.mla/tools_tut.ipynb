{
 "cells": [
  {
   "cell_type": "markdown",
   "id": "4baee768-9ed1-4d72-b183-0e6dafbd03d9",
   "metadata": {},
   "source": [
    "# Numpy\n",
    "# Pandas\n",
    "# Scikit-learn"
   ]
  }
 ],
 "metadata": {
  "kernelspec": {
   "display_name": "Python 3 (ipykernel)",
   "language": "python",
   "name": "python3"
  },
  "language_info": {
   "codemirror_mode": {
    "name": "ipython",
    "version": 3
   },
   "file_extension": ".py",
   "mimetype": "text/x-python",
   "name": "python",
   "nbconvert_exporter": "python",
   "pygments_lexer": "ipython3",
   "version": "3.13.1"
  }
 },
 "nbformat": 4,
 "nbformat_minor": 5
}
