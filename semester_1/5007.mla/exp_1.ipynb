{
 "cells": [
  {
   "cell_type": "markdown",
   "id": "a97f089f-a837-4297-8fe9-54dc9298d55b",
   "metadata": {},
   "source": [
    "# Program 1: \n",
    "1. Handle mising features\n",
    "2. Data normallization\n",
    "3. Data scaling\n",
    "4. Feature filtering\n",
    "5. Feature selection"
   ]
  },
  {
   "cell_type": "markdown",
   "id": "cbdfc2bc-2d36-44d2-b5a2-b0d55bfa8e68",
   "metadata": {},
   "source": [
    "## Handle Missing Features\n",
    "\n",
    "### missingno is used to visualise missing data"
   ]
  },
  {
   "cell_type": "code",
   "execution_count": null,
   "id": "259aee44-51d9-44d1-b1f8-7261afe0a434",
   "metadata": {},
   "outputs": [],
   "source": [
    "import missingno as msno\n",
    "import pandas as pd\n",
    "import numpy as np\n",
    "import sklearn.preprocessing as pp\n",
    "import sklearn.impute as imp"
   ]
  },
  {
   "cell_type": "code",
   "execution_count": null,
   "id": "c3a5f843-1679-42e0-8f1a-d8fc0c4605a2",
   "metadata": {},
   "outputs": [],
   "source": [
    "students = pd.read_csv(\"data/stud_details.csv\")\n",
    "\n",
    "msno.matrix(students.sample(30))\n",
    "# msno.dendrogram(students.sample(30))\n",
    "# msno.bar(students.sample(30))\n",
    "# msno.heatmap(students.sample(30))"
   ]
  },
  {
   "cell_type": "markdown",
   "id": "ae9c573f-163a-4353-b199-b3903a1c11c5",
   "metadata": {},
   "source": [
    "### Using Pandas to handle missing data"
   ]
  },
  {
   "cell_type": "code",
   "execution_count": null,
   "id": "dde67629-ef06-4e2c-bf70-b2eb6cefccba",
   "metadata": {},
   "outputs": [],
   "source": [
    "students.replace(r'^\\s*$', np.nan, regex=True)\n",
    "students.info()\n",
    "fname = students['Faculty Name'].mode()[0]\n",
    "students['Faculty Name'] = fname\n",
    "students.iloc[:, :3]"
   ]
  },
  {
   "cell_type": "markdown",
   "id": "c6952778-81eb-40c1-898a-5851ce8a3ae0",
   "metadata": {},
   "source": [
    "### Using ScikitLearn to impute missing data"
   ]
  },
  {
   "cell_type": "code",
   "execution_count": null,
   "id": "74f42761-c621-4eae-83fb-fbc399748d1a",
   "metadata": {},
   "outputs": [],
   "source": [
    "imputer = imp.SimpleImputer(strategy='most_frequent')\n",
    "df = pd.DataFrame([[\"a\", \"x\"],\n",
    "\n",
    "                   [np.nan, \"y\"],\n",
    "\n",
    "                   [\"a\", np.nan],\n",
    "\n",
    "                   [\"b\", \"y\"]], dtype=\"category\")\n",
    "print(imputer.fit_transform(df))"
   ]
  },
  {
   "cell_type": "markdown",
   "id": "70690c61-6f62-4934-86ee-f162a0f5288f",
   "metadata": {},
   "source": [
    "## Data Normalization\n",
    "- Adjusts values to fit within a specific range, typically between 0 and 1.\n",
    "- Sensitive to outliers\n",
    "1. Z-score (standardization)\n",
    "2. Minmax"
   ]
  },
  {
   "cell_type": "code",
   "execution_count": null,
   "id": "39dd1b66-6f55-4da3-90fd-aebeb7637a6e",
   "metadata": {},
   "outputs": [],
   "source": [
    "### Z-score normalisation\n",
    "\n",
    "#### Vanilla - using numpy\n",
    "\n",
    "data = np.ndarray([1, 2, 4, 5, 6, 8, 54, 99, 23]).reshape(-1, 1) # shape into a column vectore\n",
    "mean = np.mean(data)\n",
    "sd = np.std(data)\n",
    "\n",
    "norm_data = (data - mean)/sd\n",
    "print(norm_data)\n",
    "\n",
    "#### Using sklearn\n",
    "\n",
    "zscore_scaler = pp.StandardScaler()\n",
    "zscore_normalized = zscore_scaler.fit_transform(data)\n",
    "print(\"Z-score Normalization:\")\n",
    "print(zscore_normalized.flatten())"
   ]
  },
  {
   "cell_type": "code",
   "execution_count": null,
   "id": "4a3581f0-0344-472d-9457-eb817ae04691",
   "metadata": {},
   "outputs": [],
   "source": [
    "### Minmax normalization\n",
    "#### Using sklearn\n",
    "\n",
    "minmax_scaler = pp.MinMaxScaler()\n",
    "minmax_normalized = minmax_scaler.fit_transform(data)\n",
    "print(\"\\nMin-Max Normalization:\")\n",
    "print(minmax_normalized.flatten())"
   ]
  },
  {
   "cell_type": "markdown",
   "id": "57df5e75-ac82-4c7d-a9c3-faa2be665824",
   "metadata": {},
   "source": [
    "## Data Scaling\n",
    "- Adjusts values to have a mean of 0 and a standard deviation of 1, without necessarily constraining them to a specific range."
   ]
  },
  {
   "cell_type": "code",
   "execution_count": null,
   "id": "c6607b1e-c495-4678-b4fb-d26b9bf9f729",
   "metadata": {},
   "outputs": [],
   "source": [
    "### Robust Scaling (scaling based on median and IQR)\n",
    "robust_scaler = pp.RobustScaler()\n",
    "robust_scaled = robust_scaler.fit_transform(data)\n",
    "\n",
    "### Normalization (scaling to unit norm)\n",
    "normalizer = pp.Normalizer()\n",
    "normalized_data = normalizer.fit_transform(data)\n",
    "\n",
    "print(\"\\nRobust Scaling:\")\n",
    "print(robust_scaled.flatten())\n",
    "print(\"\\nNormalization (Unit Norm):\")\n",
    "print(normalized_data.flatten())"
   ]
  },
  {
   "cell_type": "code",
   "execution_count": null,
   "id": "e3833d3d-8695-4257-ab0d-d4c00016ad67",
   "metadata": {},
   "outputs": [],
   "source": []
  }
 ],
 "metadata": {
  "kernelspec": {
   "display_name": "Python 3 (ipykernel)",
   "language": "python",
   "name": "python3"
  },
  "language_info": {
   "codemirror_mode": {
    "name": "ipython",
    "version": 3
   },
   "file_extension": ".py",
   "mimetype": "text/x-python",
   "name": "python",
   "nbconvert_exporter": "python",
   "pygments_lexer": "ipython3",
   "version": "3.13.1"
  }
 },
 "nbformat": 4,
 "nbformat_minor": 5
}
