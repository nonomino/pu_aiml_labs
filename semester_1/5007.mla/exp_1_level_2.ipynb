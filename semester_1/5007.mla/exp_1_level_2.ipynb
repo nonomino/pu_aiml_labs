{
 "cells": [
  {
   "cell_type": "code",
   "execution_count": 1,
   "id": "5f36f003-7c79-493f-bc4f-b49240982771",
   "metadata": {},
   "outputs": [
    {
     "name": "stdout",
     "output_type": "stream",
     "text": [
      "Before variance threshold: ['age', 'salary', 'account_balance', 'customer_satisfaction_score', 'zipcode', 'loyalty_card_usage']\n",
      "After filtering: ['age', 'salary', 'account_balance', 'customer_satisfaction_score', 'loyalty_card_usage']\n",
      "Selected features (RFE): ['age', 'salary', 'loyalty_card_usage']\n",
      "Selected features (Lasso): ['loyalty_card_usage']\n",
      "Final selected features: {'loyalty_card_usage'}\n"
     ]
    }
   ],
   "source": [
    "import pandas as pd\n",
    "import numpy as np\n",
    "from sklearn.feature_selection import VarianceThreshold, RFE\n",
    "from sklearn.linear_model import LogisticRegression\n",
    "from sklearn.preprocessing import StandardScaler\n",
    "\n",
    "# Sample dataset\n",
    "data = {\n",
    "    'age': [25, 30, 35, 40, 22, 28, 33, 45],\n",
    "    'salary': [40000, 50000, 60000, 80000, 30000, 45000, 52000, 90000],\n",
    "    'account_balance': [1000, 1500, 2000, 2500, 1000, 1400, 1900, 3000],\n",
    "    'customer_satisfaction_score': [3, 4, 5, 4, 2, 3, 4, 5],\n",
    "    'zipcode': [12345, 12345, 12345, 12345, 12345, 12345, 12345, 12345],\n",
    "    'loyalty_card_usage': [1, 0, 1, 1, 0, 1, 0, 1],\n",
    "    'churn': [0, 1, 0, 0, 1, 0, 1, 0]\n",
    "}\n",
    "\n",
    "# Create a DataFrame\n",
    "df = pd.DataFrame(data)\n",
    "\n",
    "# Separate features and target variable\n",
    "X = df.drop(columns=['churn'])\n",
    "y = df['churn']\n",
    "\n",
    "# Step 1: Feature Filtering\n",
    "# Remove low-variance features\n",
    "print(\"Before variance threshold:\", X.columns.tolist())\n",
    "var_thresh = VarianceThreshold(threshold=0.1)  # Threshold can be adjusted\n",
    "X_filtered = var_thresh.fit_transform(X)\n",
    "\n",
    "# Convert back to DataFrame and remove 'zipcode'\n",
    "X_filtered = pd.DataFrame(X_filtered, columns=X.columns[var_thresh.get_support()])\n",
    "X_filtered = X_filtered.drop(columns=['zipcode'], errors='ignore')\n",
    "print(\"After filtering:\", X_filtered.columns.tolist())\n",
    "\n",
    "# Step 2: Feature Selection with RFE\n",
    "# Use Logistic Regression as the model\n",
    "scaler = StandardScaler()\n",
    "X_scaled = scaler.fit_transform(X_filtered)\n",
    "model = LogisticRegression()\n",
    "rfe = RFE(model, n_features_to_select=3)  # Select top 3 features\n",
    "X_rfe = rfe.fit_transform(X_scaled, y)\n",
    "\n",
    "# Get selected feature names\n",
    "selected_features_rfe = X_filtered.columns[rfe.support_].tolist()\n",
    "print(\"Selected features (RFE):\", selected_features_rfe)\n",
    "\n",
    "# Step 3: Feature Selection with Lasso\n",
    "from sklearn.linear_model import Lasso\n",
    "\n",
    "lasso = Lasso(alpha=0.1)  # Regularization strength (alpha can be tuned)\n",
    "lasso.fit(X_scaled, y)\n",
    "\n",
    "# Get selected features from Lasso (non-zero coefficients)\n",
    "selected_features_lasso = X_filtered.columns[lasso.coef_ != 0].tolist()\n",
    "print(\"Selected features (Lasso):\", selected_features_lasso)\n",
    "\n",
    "# Final selected features by combining methods\n",
    "final_features = set(selected_features_rfe) & set(selected_features_lasso)\n",
    "print(\"Final selected features:\", final_features)"
   ]
  },
  {
   "cell_type": "code",
   "execution_count": null,
   "id": "40e2fb8c-0471-4e6f-b26a-788e3b23b7f9",
   "metadata": {},
   "outputs": [],
   "source": []
  }
 ],
 "metadata": {
  "kernelspec": {
   "display_name": "Python 3 (ipykernel)",
   "language": "python",
   "name": "python3"
  },
  "language_info": {
   "codemirror_mode": {
    "name": "ipython",
    "version": 3
   },
   "file_extension": ".py",
   "mimetype": "text/x-python",
   "name": "python",
   "nbconvert_exporter": "python",
   "pygments_lexer": "ipython3",
   "version": "3.13.1"
  }
 },
 "nbformat": 4,
 "nbformat_minor": 5
}
