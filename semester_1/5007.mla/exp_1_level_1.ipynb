{
 "cells": [
  {
   "cell_type": "markdown",
   "id": "a97f089f-a837-4297-8fe9-54dc9298d55b",
   "metadata": {},
   "source": [
    "# Program 1: \n",
    "1. Handle mising features\n",
    "2. Data normallization\n",
    "3. Data scaling\n",
    "4. Feature filtering\n",
    "5. Feature selection"
   ]
  },
  {
   "cell_type": "markdown",
   "id": "cbdfc2bc-2d36-44d2-b5a2-b0d55bfa8e68",
   "metadata": {},
   "source": [
    "## Handle Missing Features\n",
    "\n",
    "### missingno is used to visualise missing data"
   ]
  },
  {
   "cell_type": "code",
   "execution_count": 2,
   "id": "259aee44-51d9-44d1-b1f8-7261afe0a434",
   "metadata": {},
   "outputs": [],
   "source": [
    "import pandas as pd\n",
    "import numpy as np\n",
    "import sklearn.preprocessing as pp\n",
    "import sklearn.impute as imp"
   ]
  },
  {
   "cell_type": "code",
   "execution_count": 3,
   "id": "c3a5f843-1679-42e0-8f1a-d8fc0c4605a2",
   "metadata": {},
   "outputs": [],
   "source": [
    "students = pd.read_csv(\"data/student_details.csv\")"
   ]
  },
  {
   "cell_type": "markdown",
   "id": "ae9c573f-163a-4353-b199-b3903a1c11c5",
   "metadata": {},
   "source": [
    "### Using Pandas to handle missing data"
   ]
  },
  {
   "cell_type": "code",
   "execution_count": 4,
   "id": "dde67629-ef06-4e2c-bf70-b2eb6cefccba",
   "metadata": {},
   "outputs": [
    {
     "name": "stdout",
     "output_type": "stream",
     "text": [
      "<class 'pandas.core.frame.DataFrame'>\n",
      "RangeIndex: 41 entries, 0 to 40\n",
      "Data columns (total 17 columns):\n",
      " #   Column                           Non-Null Count  Dtype  \n",
      "---  ------                           --------------  -----  \n",
      " 0   ID                               41 non-null     int64  \n",
      " 1   Unnamed: 1                       0 non-null      float64\n",
      " 2   Unnamed: 2                       0 non-null      float64\n",
      " 3   Unnamed: 3                       0 non-null      float64\n",
      " 4   Name2                            41 non-null     object \n",
      " 5   Roll number                      41 non-null     object \n",
      " 6   Semester                         41 non-null     object \n",
      " 7   Gender                           41 non-null     object \n",
      " 8   School                           41 non-null     object \n",
      " 9   Faculty ID                       6 non-null      object \n",
      " 10  Faculty Name                     39 non-null     object \n",
      " 11  Home Department                  41 non-null     object \n",
      " 12  Student Contact Number           41 non-null     int64  \n",
      " 13  Email Id (University preferred)  41 non-null     object \n",
      " 14  Father's contact number          41 non-null     object \n",
      " 15  Home Address                     41 non-null     object \n",
      " 16  Emergency Contact Number         41 non-null     object \n",
      "dtypes: float64(3), int64(2), object(12)\n",
      "memory usage: 5.6+ KB\n"
     ]
    },
    {
     "data": {
      "text/plain": [
       "0     Shubham Kumar\n",
       "1     Shubham Kumar\n",
       "2     Shubham Kumar\n",
       "3     Shubham Kumar\n",
       "4     Shubham Kumar\n",
       "5     Shubham Kumar\n",
       "6     Shubham Kumar\n",
       "7     Shubham Kumar\n",
       "8     Shubham Kumar\n",
       "9     Shubham Kumar\n",
       "10    Shubham Kumar\n",
       "11    Shubham Kumar\n",
       "12    Shubham Kumar\n",
       "13    Shubham Kumar\n",
       "14    Shubham Kumar\n",
       "15    Shubham Kumar\n",
       "16    Shubham Kumar\n",
       "17    Shubham Kumar\n",
       "18    Shubham Kumar\n",
       "19    Shubham Kumar\n",
       "20    Shubham Kumar\n",
       "21    Shubham Kumar\n",
       "22    Shubham Kumar\n",
       "23    Shubham Kumar\n",
       "24    Shubham Kumar\n",
       "25    Shubham Kumar\n",
       "26    Shubham Kumar\n",
       "27    Shubham Kumar\n",
       "28    Shubham Kumar\n",
       "29    Shubham Kumar\n",
       "30    Shubham Kumar\n",
       "31    Shubham Kumar\n",
       "32    Shubham Kumar\n",
       "33    Shubham Kumar\n",
       "34    Shubham Kumar\n",
       "35    Shubham Kumar\n",
       "36    Shubham Kumar\n",
       "37    Shubham Kumar\n",
       "38    Shubham Kumar\n",
       "39    Shubham Kumar\n",
       "40    Shubham Kumar\n",
       "Name: Faculty Name, dtype: object"
      ]
     },
     "execution_count": 4,
     "metadata": {},
     "output_type": "execute_result"
    }
   ],
   "source": [
    "students.replace(r'^\\s*$', np.nan, regex=True)\n",
    "students.info()\n",
    "fname = students['Faculty Name'].mode()[0]\n",
    "students['Faculty Name'] = fname\n",
    "students['Faculty Name']"
   ]
  },
  {
   "cell_type": "markdown",
   "id": "c6952778-81eb-40c1-898a-5851ce8a3ae0",
   "metadata": {},
   "source": [
    "### Using ScikitLearn to impute missing data"
   ]
  },
  {
   "cell_type": "code",
   "execution_count": 5,
   "id": "74f42761-c621-4eae-83fb-fbc399748d1a",
   "metadata": {},
   "outputs": [
    {
     "name": "stdout",
     "output_type": "stream",
     "text": [
      "[['a' 'x']\n",
      " ['a' 'y']\n",
      " ['a' 'y']\n",
      " ['b' 'y']]\n"
     ]
    }
   ],
   "source": [
    "imputer = imp.SimpleImputer(strategy='most_frequent')\n",
    "df = pd.DataFrame([[\"a\", \"x\"],\n",
    "                   [np.nan, \"y\"],\n",
    "                   [\"a\", np.nan],\n",
    "                   [\"b\", \"y\"]], dtype=\"category\")\n",
    "\n",
    "print(imputer.fit_transform(df))"
   ]
  },
  {
   "cell_type": "markdown",
   "id": "70690c61-6f62-4934-86ee-f162a0f5288f",
   "metadata": {},
   "source": [
    "## Data Normalization\n",
    "- Adjusts values to fit within a specific range, typically between 0 and 1.\n",
    "- Sensitive to outliers\n",
    "1. Z-score (standardization)\n",
    "2. Minmax"
   ]
  },
  {
   "cell_type": "code",
   "execution_count": 9,
   "id": "39dd1b66-6f55-4da3-90fd-aebeb7637a6e",
   "metadata": {},
   "outputs": [
    {
     "name": "stdout",
     "output_type": "stream",
     "text": [
      "[[-1.5666989 ]\n",
      " [-1.21854359]\n",
      " [-0.87038828]\n",
      " [-0.52223297]\n",
      " [-0.17407766]\n",
      " [ 0.17407766]\n",
      " [ 0.52223297]\n",
      " [ 0.87038828]\n",
      " [ 1.21854359]\n",
      " [ 1.5666989 ]]\n",
      "Z-score Normalization:\n",
      "[-1.5666989  -1.21854359 -0.87038828 -0.52223297 -0.17407766  0.17407766\n",
      "  0.52223297  0.87038828  1.21854359  1.5666989 ]\n"
     ]
    }
   ],
   "source": [
    "### Z-score normalisation\n",
    "\n",
    "#### Vanilla - using numpy\n",
    "\n",
    "data = np.arange(10).reshape(-1, 1) # shape into a column vectore\n",
    "mean = np.mean(data)\n",
    "sd = np.std(data)\n",
    "\n",
    "norm_data = (data - mean)/sd\n",
    "print(norm_data)\n",
    "\n",
    "#### Using sklearn\n",
    "\n",
    "zscore_scaler = pp.StandardScaler()\n",
    "zscore_normalized = zscore_scaler.fit_transform(data)\n",
    "print(\"Z-score Normalization:\")\n",
    "print(zscore_normalized.flatten())"
   ]
  },
  {
   "cell_type": "code",
   "execution_count": 10,
   "id": "4a3581f0-0344-472d-9457-eb817ae04691",
   "metadata": {},
   "outputs": [
    {
     "name": "stdout",
     "output_type": "stream",
     "text": [
      "\n",
      "Min-Max Normalization:\n",
      "[0.         0.11111111 0.22222222 0.33333333 0.44444444 0.55555556\n",
      " 0.66666667 0.77777778 0.88888889 1.        ]\n"
     ]
    }
   ],
   "source": [
    "### Minmax normalization\n",
    "#### Using sklearn\n",
    "\n",
    "minmax_scaler = pp.MinMaxScaler()\n",
    "minmax_normalized = minmax_scaler.fit_transform(data)\n",
    "print(\"\\nMin-Max Normalization:\")\n",
    "print(minmax_normalized.flatten())"
   ]
  },
  {
   "cell_type": "markdown",
   "id": "57df5e75-ac82-4c7d-a9c3-faa2be665824",
   "metadata": {},
   "source": [
    "## Data Scaling\n",
    "- Adjusts values to have a mean of 0 and a standard deviation of 1, without necessarily constraining them to a specific range."
   ]
  },
  {
   "cell_type": "code",
   "execution_count": 11,
   "id": "c6607b1e-c495-4678-b4fb-d26b9bf9f729",
   "metadata": {},
   "outputs": [
    {
     "name": "stdout",
     "output_type": "stream",
     "text": [
      "\n",
      "Robust Scaling:\n",
      "[-1.         -0.77777778 -0.55555556 -0.33333333 -0.11111111  0.11111111\n",
      "  0.33333333  0.55555556  0.77777778  1.        ]\n",
      "\n",
      "Normalization (Unit Norm):\n",
      "[0. 1. 1. 1. 1. 1. 1. 1. 1. 1.]\n"
     ]
    }
   ],
   "source": [
    "### Robust Scaling (scaling based on median and IQR)\n",
    "robust_scaler = pp.RobustScaler()\n",
    "robust_scaled = robust_scaler.fit_transform(data)\n",
    "\n",
    "### Normalization (scaling to unit norm)\n",
    "normalizer = pp.Normalizer()\n",
    "normalized_data = normalizer.fit_transform(data)\n",
    "\n",
    "print(\"\\nRobust Scaling:\")\n",
    "print(robust_scaled.flatten())\n",
    "print(\"\\nNormalization (Unit Norm):\")\n",
    "print(normalized_data.flatten())"
   ]
  },
  {
   "cell_type": "code",
   "execution_count": null,
   "id": "e3833d3d-8695-4257-ab0d-d4c00016ad67",
   "metadata": {},
   "outputs": [],
   "source": []
  }
 ],
 "metadata": {
  "kernelspec": {
   "display_name": "Python 3 (ipykernel)",
   "language": "python",
   "name": "python3"
  },
  "language_info": {
   "codemirror_mode": {
    "name": "ipython",
    "version": 3
   },
   "file_extension": ".py",
   "mimetype": "text/x-python",
   "name": "python",
   "nbconvert_exporter": "python",
   "pygments_lexer": "ipython3",
   "version": "3.13.1"
  }
 },
 "nbformat": 4,
 "nbformat_minor": 5
}
